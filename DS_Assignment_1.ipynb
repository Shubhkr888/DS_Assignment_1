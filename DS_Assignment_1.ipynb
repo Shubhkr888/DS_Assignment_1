{
  "nbformat": 4,
  "nbformat_minor": 0,
  "metadata": {
    "colab": {
      "provenance": []
    },
    "kernelspec": {
      "name": "python3",
      "display_name": "Python 3"
    },
    "language_info": {
      "name": "python"
    }
  },
  "cells": [
    {
      "cell_type": "code",
      "execution_count": 10,
      "metadata": {
        "id": "p0L-Fr0so8b_"
      },
      "outputs": [],
      "source": [
        "#Q1\n",
        "from typing import List\n",
        "\n",
        "\n",
        "def twoSum(nums: List[int], target: int) -> List[int]:\n",
        "    # List to store results\n",
        "    result = []\n",
        "    # Dictionary to store the difference and its index\n",
        "    index_map = {}\n",
        "    # Loop for each element\n",
        "    for i, n in enumerate(nums):\n",
        "        # Difference which needs to be checked\n",
        "        difference = target - n\n",
        "        if difference in index_map:\n",
        "            result.append(i)\n",
        "            result.append(index_map[difference])\n",
        "            break\n",
        "        else:\n",
        "            index_map[n] = i\n",
        "    return result"
      ]
    },
    {
      "cell_type": "code",
      "source": [
        "#Q2\n",
        "class RemoveElement:\n",
        "    def removeElement(nums: List[int], val: int) -> int:\n",
        "        # Counter for keeping track of elements other than val\n",
        "        count = 0\n",
        "        # Loop through all the elements of the array\n",
        "        for i in range(len(nums)):\n",
        "            if nums[i] != val:\n",
        "                # If the element is not val\n",
        "                nums[count] = nums[i]\n",
        "                count += 1\n",
        "        return count"
      ],
      "metadata": {
        "id": "Iy-aQ4SHqr36"
      },
      "execution_count": 11,
      "outputs": []
    },
    {
      "cell_type": "code",
      "source": [
        "#Q3\n",
        "class Solution(object):\n",
        "    def searchInsert(self, nums, target):\n",
        "\n",
        "        while left < right:\n",
        "            mid = left + (right - left) // 2\n",
        "            if nums[mid] >= target:\n",
        "                right = mid\n",
        "            else:\n",
        "                left = mid + 1\n",
        "        return left"
      ],
      "metadata": {
        "id": "2MJaeIi1prQE"
      },
      "execution_count": 13,
      "outputs": []
    },
    {
      "cell_type": "code",
      "source": [
        "#Q6\n",
        "class Solution:\n",
        "    def containsDuplicate(self, nums: List[int]) -> bool:\n",
        "        for i in range(len(nums)):\n",
        "            for j in range(0, i):\n",
        "                if nums[i] == nums[j]:\n",
        "                    return True\n",
        "        return False"
      ],
      "metadata": {
        "id": "RJ3wSm4qrK8Q"
      },
      "execution_count": 14,
      "outputs": []
    },
    {
      "cell_type": "code",
      "source": [
        "# Q7\n",
        "\n",
        "A = [5, 6, 0, 4, 6, 0, 9, 0, 8]\n",
        "n = len(A)\n",
        "B = [0] * n\n",
        "j = 0\n",
        "count = 0\n",
        "\n",
        "for i in range(n):\n",
        "    if A[i] != 0:\n",
        "        B[j] = A[i]\n",
        "        j += 1\n",
        "    else:\n",
        "        count += 1\n",
        "\n",
        "while count > 0:\n",
        "    B[j] = 0\n",
        "    count -= 1\n",
        "    j += 1\n",
        "\n",
        "for i in range(n):\n",
        "    A[i] = B[i]\n",
        "\n",
        "for i in range(n):\n",
        "    print(A[i], end=' ')"
      ],
      "metadata": {
        "colab": {
          "base_uri": "https://localhost:8080/"
        },
        "id": "0jjK951jr25w",
        "outputId": "8b40e418-1129-40ea-8315-deabf5cf1836"
      },
      "execution_count": 15,
      "outputs": [
        {
          "output_type": "stream",
          "name": "stdout",
          "text": [
            "5 6 4 6 9 8 0 0 0 "
          ]
        }
      ]
    },
    {
      "cell_type": "code",
      "source": [
        "#Q8\n",
        "class Solution:\n",
        "    def findErrorNums(self, nums: List[int]) -> List[int]:\n",
        "        N, dupe = len(nums), 0\n",
        "        seen, sumN = [0] * (N+1), N * (N+1) // 2\n",
        "        for num in nums:\n",
        "            sumN -= num\n",
        "            if seen[num]: dupe = num\n",
        "            seen[num] += 1\n",
        "        return [dupe, sumN + dupe]"
      ],
      "metadata": {
        "id": "e85MmsRkr3j1"
      },
      "execution_count": 16,
      "outputs": []
    }
  ]
}